{
 "cells": [
  {
   "cell_type": "markdown",
   "metadata": {},
   "source": [
    "#### making naive insensitive to mismatch (Hamming)"
   ]
  },
  {
   "cell_type": "code",
   "execution_count": null,
   "metadata": {
    "collapsed": true
   },
   "outputs": [],
   "source": [
    "# the key is to simly prevent the inner loop from breaking immediatelly upon the first mismatch\n",
    "\n",
    "def naiveHamming(p, t, maxDistance):\n",
    "    occurences = []\n",
    "    for i in xrange(len(t) - len(p) + 1): # lopp over lignments\n",
    "        nmm = 0\n",
    "        match = True\n",
    "        for j in xrange(len(p)):          # this compares the characters\n",
    "            if t[i+j] != p[j]:\n",
    "                nmm += 1\n",
    "                \n",
    "                if nmm > maxDistance:\n",
    "                    break\n",
    "        if nmm <= maxDistance:\n",
    "            occurences.append(i)         #approximates match\n",
    "    return occurences\n",
    "                "
   ]
  }
 ],
 "metadata": {
  "anaconda-cloud": {},
  "kernelspec": {
   "display_name": "Python [Root]",
   "language": "python",
   "name": "Python [Root]"
  },
  "language_info": {
   "codemirror_mode": {
    "name": "ipython",
    "version": 2
   },
   "file_extension": ".py",
   "mimetype": "text/x-python",
   "name": "python",
   "nbconvert_exporter": "python",
   "pygments_lexer": "ipython2",
   "version": "2.7.12"
  }
 },
 "nbformat": 4,
 "nbformat_minor": 0
}
